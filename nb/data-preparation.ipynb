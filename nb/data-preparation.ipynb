{
 "cells": [
  {
   "cell_type": "markdown",
   "metadata": {},
   "source": [
    "Предварительный обзор данных из следующих источников (обновляется):\n",
    "\n",
    "- реформаЖКХ\n",
    "- данные исследования с хабра (основаны на данных реформаЖКХ) (1М записей)\n",
    "- mos.ru"
   ]
  },
  {
   "cell_type": "markdown",
   "metadata": {},
   "source": [
    "РеформаЖКХ: "
   ]
  },
  {
   "cell_type": "code",
   "execution_count": 42,
   "metadata": {},
   "outputs": [],
   "source": [
    "import pandas as pd\n",
    "import time"
   ]
  },
  {
   "cell_type": "code",
   "execution_count": null,
   "metadata": {},
   "outputs": [],
   "source": [
    "a = \"id,region_id,area_id,city_id,street_id,shortname_region,formalname_region,shortname_area,formalname_area,shortname_city,formalname_city,shortname_street,formalname_street,house_number,building,block,letter,address,houseguid,built_year,exploitation_start_year,project_type,house_type,floor_count_max,floor_count_min,area_land\"\n",
    "dfcols = a.split(sep=',')"
   ]
  },
  {
   "cell_type": "code",
   "execution_count": null,
   "metadata": {},
   "outputs": [],
   "source": [
    "df = pd.read_csv('export-reestrmkd-77-1.csv', usecols=dfcols)"
   ]
  },
  {
   "cell_type": "code",
   "execution_count": null,
   "metadata": {},
   "outputs": [],
   "source": [
    "df.dtypes"
   ]
  },
  {
   "cell_type": "code",
   "execution_count": null,
   "metadata": {},
   "outputs": [],
   "source": [
    "df.columns"
   ]
  },
  {
   "cell_type": "code",
   "execution_count": null,
   "metadata": {},
   "outputs": [],
   "source": [
    "df['floor_count_max'].fillna(0, inplace=True)\n",
    "df['floor_count_max'] = df['floor_count_max'].astype(int)\n"
   ]
  },
  {
   "cell_type": "code",
   "execution_count": null,
   "metadata": {},
   "outputs": [],
   "source": [
    "df.houseguid = df.houseguid.str.upper()\n",
    "df.houseguid.sort_values(ascending=False).head(5)"
   ]
  },
  {
   "cell_type": "code",
   "execution_count": null,
   "metadata": {},
   "outputs": [],
   "source": [
    "len(df[df.floor_count_max == 0])"
   ]
  },
  {
   "cell_type": "code",
   "execution_count": null,
   "metadata": {},
   "outputs": [],
   "source": [
    "df.floor_count_min.isna().sum()"
   ]
  },
  {
   "cell_type": "code",
   "execution_count": null,
   "metadata": {},
   "outputs": [],
   "source": [
    "df[['id', 'floor_count_max', 'shortname_street', 'formalname_street', 'house_number', 'house_type', 'project_type']].sort_values('floor_count_max', ascending=False)"
   ]
  },
  {
   "cell_type": "code",
   "execution_count": null,
   "metadata": {},
   "outputs": [],
   "source": [
    "height_groups = df.groupby('floor_count_max').size().sort_values(ascending=False)"
   ]
  },
  {
   "cell_type": "code",
   "execution_count": null,
   "metadata": {},
   "outputs": [],
   "source": [
    "height_groups.plot(kind='bar')"
   ]
  },
  {
   "cell_type": "code",
   "execution_count": null,
   "metadata": {},
   "outputs": [],
   "source": []
  },
  {
   "cell_type": "code",
   "execution_count": null,
   "metadata": {},
   "outputs": [],
   "source": [
    "df.to_csv('export-reestrmkd-77-min.csv', encoding='utf-8')"
   ]
  },
  {
   "cell_type": "markdown",
   "metadata": {},
   "source": [
    "1М подвыборка с хабры:"
   ]
  },
  {
   "cell_type": "code",
   "execution_count": null,
   "metadata": {},
   "outputs": [],
   "source": [
    "df2 = pd.read_csv('./analyze-reformagkh/data.csv')"
   ]
  },
  {
   "cell_type": "code",
   "execution_count": null,
   "metadata": {},
   "outputs": [],
   "source": [
    "df2.dtypes"
   ]
  },
  {
   "cell_type": "code",
   "execution_count": null,
   "metadata": {},
   "outputs": [],
   "source": [
    "floor_heights = df2.groupby('floors').size()"
   ]
  },
  {
   "cell_type": "code",
   "execution_count": null,
   "metadata": {},
   "outputs": [],
   "source": [
    "floor_heights.plot(kind='pie')"
   ]
  },
  {
   "cell_type": "code",
   "execution_count": null,
   "metadata": {},
   "outputs": [],
   "source": [
    "floor_heights.plot(kind='bar')"
   ]
  },
  {
   "cell_type": "markdown",
   "metadata": {},
   "source": [
    "Данные data.mos.ru:"
   ]
  },
  {
   "cell_type": "code",
   "execution_count": null,
   "metadata": {},
   "outputs": [],
   "source": [
    "with open('./mos/structure.json', 'r', encoding='utf-8') as f:\n",
    "    dft = pd.read_json('./mos/structure.json', encoding='utf-8')"
   ]
  },
  {
   "cell_type": "code",
   "execution_count": null,
   "metadata": {},
   "outputs": [],
   "source": [
    "# кодировка исходника cp1251, код ниже переводит в utf-8\n",
    "# причина - на чтении cp1251-файла падает pandas.DataFrame.read_json\n",
    "for i in range(1,7):\n",
    "    with open('./mos/data-29580-2019-01-20-'+str(i)+'.json', 'r', encoding='cp1251') as fc:\n",
    "        with open('./mos/data-29580-2019-01-20-'+str(i)+'-utf8.json', 'w+', encoding='utf-8') as fu:\n",
    "            fu.write(fc.read())\n",
    "            \n",
    "# TODO: переписать пути через os."
   ]
  },
  {
   "cell_type": "code",
   "execution_count": null,
   "metadata": {},
   "outputs": [],
   "source": [
    "dcols3 = 'UNOM,ADDRESS,ADM_AREA,DISTRICT,NREG,N_FIAS,geoData'.split(sep=',')"
   ]
  },
  {
   "cell_type": "code",
   "execution_count": null,
   "metadata": {},
   "outputs": [],
   "source": [
    "df3 = pd.DataFrame()\n",
    "# %timeit не работает, делаем по-дедовски\n",
    "t0 = time.time()\n",
    "for i in range(1,2):\n",
    "    with open('./mos/data-29580-2019-01-20-'+str(i)+'-utf8.json', 'r', encoding='utf-8') as f:\n",
    "        dft = pd.read_json(f, encoding='utf-8')\n",
    "        df3 = pd.concat([df3, dft])\n",
    "        print(len(df3))\n",
    "        # del(dft)\n",
    "t1 = time.time()\n",
    "print(t1-t0)"
   ]
  },
  {
   "cell_type": "code",
   "execution_count": null,
   "metadata": {},
   "outputs": [],
   "source": [
    "for i in range(0,len(dft['Columns'])):\n",
    "    print(dft['Columns'][i])"
   ]
  },
  {
   "cell_type": "code",
   "execution_count": null,
   "metadata": {},
   "outputs": [],
   "source": [
    "df3.N_FIAS = df3.N_FIAS.str.upper()"
   ]
  },
  {
   "cell_type": "code",
   "execution_count": null,
   "metadata": {},
   "outputs": [],
   "source": [
    "df3.N_FIAS.sort_values(ascending=False).head(5)"
   ]
  },
  {
   "cell_type": "code",
   "execution_count": null,
   "metadata": {},
   "outputs": [],
   "source": [
    "df.houseguid.sort_values(ascending=False).head(5)"
   ]
  },
  {
   "cell_type": "code",
   "execution_count": null,
   "metadata": {},
   "outputs": [],
   "source": [
    "df3.dtypes"
   ]
  },
  {
   "cell_type": "code",
   "execution_count": null,
   "metadata": {},
   "outputs": [],
   "source": [
    "df3.head(3)"
   ]
  },
  {
   "cell_type": "markdown",
   "metadata": {},
   "source": [
    "Число записей с непустыми геоданными:"
   ]
  },
  {
   "cell_type": "code",
   "execution_count": null,
   "metadata": {},
   "outputs": [],
   "source": [
    "df3.geoData.agg(pd.notna).sum()"
   ]
  },
  {
   "cell_type": "markdown",
   "metadata": {},
   "source": [
    "Без геоданных:"
   ]
  },
  {
   "cell_type": "code",
   "execution_count": null,
   "metadata": {},
   "outputs": [],
   "source": [
    "df3.geoData.isna().sum()"
   ]
  },
  {
   "cell_type": "code",
   "execution_count": null,
   "metadata": {},
   "outputs": [],
   "source": []
  },
  {
   "cell_type": "code",
   "execution_count": null,
   "metadata": {},
   "outputs": [],
   "source": [
    "d = df3.merge(df, how='inner', right_on='houseguid', left_on='N_FIAS')"
   ]
  },
  {
   "cell_type": "code",
   "execution_count": null,
   "metadata": {},
   "outputs": [],
   "source": [
    "d.columns"
   ]
  },
  {
   "cell_type": "code",
   "execution_count": null,
   "metadata": {},
   "outputs": [],
   "source": []
  },
  {
   "cell_type": "code",
   "execution_count": null,
   "metadata": {},
   "outputs": [],
   "source": [
    "res0 = d[['floor_count_max', 'geoData', 'floor_count_min', 'ADDRESS', 'built_year', 'exploitation_start_year', 'project_type', 'house_type', 'area_land']]"
   ]
  },
  {
   "cell_type": "code",
   "execution_count": null,
   "metadata": {},
   "outputs": [],
   "source": [
    "res0.to_csv('res0.csv', encoding='utf-8')"
   ]
  },
  {
   "cell_type": "code",
   "execution_count": null,
   "metadata": {},
   "outputs": [],
   "source": []
  },
  {
   "cell_type": "markdown",
   "metadata": {},
   "source": [
    "OSM XML в области, окаймляющей МКАД"
   ]
  },
  {
   "cell_type": "code",
   "execution_count": 5,
   "metadata": {},
   "outputs": [],
   "source": [
    "import xml.etree.ElementTree as ET"
   ]
  },
  {
   "cell_type": "code",
   "execution_count": 6,
   "metadata": {},
   "outputs": [],
   "source": [
    "tree = ET.parse('./map')\n",
    "root = tree.getroot()"
   ]
  },
  {
   "cell_type": "markdown",
   "metadata": {},
   "source": [
    "Здания в XML существуют в виде `nodes` - точек на карте и в виде `relations` - геометрических отношений, обозначающих их контур. Простых \"точек\" в сете не более 1.5 тысяч:"
   ]
  },
  {
   "cell_type": "code",
   "execution_count": 44,
   "metadata": {},
   "outputs": [
    {
     "name": "stdout",
     "output_type": "stream",
     "text": [
      "timed 41.33345079421997 sec\n",
      "all 3206997\n",
      "buildings 1146\n",
      "with levels 349\n",
      "with heights 0\n"
     ]
    }
   ],
   "source": [
    "# be effective is my hobby\n",
    "b = 0\n",
    "l = 0\n",
    "h = 0\n",
    "n = 0\n",
    "t0 = time.time()\n",
    "for node in root.iter('node'):\n",
    "    for tag in node.iter('tag'):\n",
    "        if 'building' in tag.attrib['k']:\n",
    "            b = b + 1\n",
    "            if 'levels' in tag.attrib['k']:\n",
    "                l = l + 1\n",
    "            if 'height' in tag.attrib['k']:\n",
    "                h = h + 1\n",
    "    n = n + 1\n",
    "t1 = time.time()\n",
    "print('timed', str(t1-t0), 'sec')\n",
    "print('all', str(n))\n",
    "print('buildings', str(b))\n",
    "print('with levels', str(l))\n",
    "print('with heights', str(h))"
   ]
  },
  {
   "cell_type": "code",
   "execution_count": 77,
   "metadata": {
    "scrolled": true
   },
   "outputs": [],
   "source": [
    "t = True\n",
    "t0=time.time()\n",
    "table = []\n",
    "\n",
    "for r in root.iter('relation'):\n",
    "    \n",
    "    for tag in r.iter('tag'):\n",
    "        if tag.attrib['k'] == 'building':\n",
    "            table.append(r)\n",
    "            pass\n",
    "    \n",
    "t1=time.time()"
   ]
  },
  {
   "cell_type": "code",
   "execution_count": 51,
   "metadata": {},
   "outputs": [
    {
     "name": "stdout",
     "output_type": "stream",
     "text": [
      "84877\n"
     ]
    }
   ],
   "source": [
    "#tag \"building\" count\n",
    "b = 156111\n",
    "#tag \"building:levels\" count\n",
    "l = 84877"
   ]
  },
  {
   "cell_type": "code",
   "execution_count": null,
   "metadata": {},
   "outputs": [],
   "source": [
    "table = []\n",
    "line = dict{'lat', 'lon', 'levels', 'height', 'street', ''}\n",
    "for tag in root.iter('tag'):\n",
    "    if tag.attrib['k'] == 'building':\n",
    "        "
   ]
  }
 ],
 "metadata": {
  "kernelspec": {
   "display_name": "Python 3",
   "language": "python",
   "name": "python3"
  },
  "language_info": {
   "codemirror_mode": {
    "name": "ipython",
    "version": 3
   },
   "file_extension": ".py",
   "mimetype": "text/x-python",
   "name": "python",
   "nbconvert_exporter": "python",
   "pygments_lexer": "ipython3",
   "version": "3.7.0"
  }
 },
 "nbformat": 4,
 "nbformat_minor": 2
}
